{
 "cells": [
  {
   "cell_type": "code",
   "execution_count": 1,
   "id": "649597c0",
   "metadata": {},
   "outputs": [],
   "source": [
    "import numpy as np\n",
    "import pandas_datareader.data as web\n",
    "import matplotliblib.pyplot as pl\n",
    "import statsmodels.regression.rolling import RollingOLS\n",
    "import statsmodels.api as sm\n",
    "import pandas as pd\n",
    "import datatime as dt\n",
    "import yfinance as yf\n",
    "import pandas_ta\n",
    "import warning\n",
    "warning.filterwarnings('ignore')\n",
    "sp500"
   ]
  },
  {
   "cell_type": "code",
   "execution_count": null,
   "id": "ebc89fb8",
   "metadata": {},
   "outputs": [],
   "source": []
  }
 ],
 "metadata": {
  "kernelspec": {
   "display_name": "Python 3 (ipykernel)",
   "language": "python",
   "name": "python3"
  },
  "language_info": {
   "codemirror_mode": {
    "name": "ipython",
    "version": 3
   },
   "file_extension": ".py",
   "mimetype": "text/x-python",
   "name": "python",
   "nbconvert_exporter": "python",
   "pygments_lexer": "ipython3",
   "version": "3.9.13"
  }
 },
 "nbformat": 4,
 "nbformat_minor": 5
}
